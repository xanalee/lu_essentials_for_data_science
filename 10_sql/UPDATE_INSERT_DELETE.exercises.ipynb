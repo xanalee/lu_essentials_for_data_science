{
 "cells": [
  {
   "cell_type": "markdown",
   "id": "b9ccf0cb",
   "metadata": {},
   "source": [
    "# SQL modification statements (exercises)"
   ]
  },
  {
   "cell_type": "markdown",
   "id": "289777c9",
   "metadata": {},
   "source": [
    "## Preparation"
   ]
  },
  {
   "cell_type": "markdown",
   "id": "b5d77242",
   "metadata": {},
   "source": [
    "For this section you need `chinook.db` database file and working `%sql` magic.  \n",
    "If you don't have it, please go back to the [previous section](../09_sql/connect_to_database.ipynb) and follow the instructions.  \n",
    "The following code should not produce any errors:"
   ]
  },
  {
   "cell_type": "code",
   "id": "89d64a98",
   "metadata": {},
   "source": [
    "%load_ext sql\n",
    "%sql sqlite:///chinook.db"
   ],
   "outputs": [],
   "execution_count": null
  },
  {
   "cell_type": "markdown",
   "id": "c80e4174",
   "metadata": {},
   "source": [
    "## Exercise: updating rows"
   ]
  },
  {
   "cell_type": "markdown",
   "id": "e8a9235e",
   "metadata": {},
   "source": [
    "An employee `Park Margaret` has moved to a new address: \n",
    "- `City`: `Toronto`,\n",
    "- `State`: `NO`,\n",
    "- `Postcode`: `M5P 2N7`. \n",
    "\n",
    "Update the `employee` table accordingly.  \n",
    "To verify that the change indeed is made, show the content before and after the change."
   ]
  },
  {
   "metadata": {},
   "cell_type": "code",
   "source": [
    "%%sql\n",
    "SELECT * FROM employees WHERE LastName == 'Park' AND FirstName == 'Margaret'"
   ],
   "id": "aea6463dd3ec7e0",
   "outputs": [],
   "execution_count": null
  },
  {
   "metadata": {},
   "cell_type": "code",
   "source": [
    "%%sql\n",
    "UPDATE employees\n",
    "SET City == 'Toronto', State == 'NO', PostalCode == 'M5P 2N7'\n",
    "WHERE LastName == 'Park' AND FirstName == 'Margaret'"
   ],
   "id": "902e253959af0132",
   "outputs": [],
   "execution_count": null
  },
  {
   "metadata": {},
   "cell_type": "code",
   "source": [
    "%%sql\n",
    "SELECT * FROM employees WHERE LastName == 'Park' AND FirstName == 'Margaret'"
   ],
   "id": "787b248004e62916",
   "outputs": [],
   "execution_count": null
  },
  {
   "cell_type": "markdown",
   "id": "fef08ac9",
   "metadata": {},
   "source": [
    "## Exercise: adding rows"
   ]
  },
  {
   "cell_type": "markdown",
   "id": "9ae13873",
   "metadata": {},
   "source": [
    "In a single SQL command insert three new random persons into the `artists` table.  \n",
    "To verify that the change indeed is made, show the content before and after the change."
   ]
  },
  {
   "metadata": {},
   "cell_type": "code",
   "source": [
    "%%sql\n",
    "SELECT * FROM artists\n",
    "ORDER BY ArtistId DESC\n",
    "LIMIT 8"
   ],
   "id": "114f0bcab4e91aa5",
   "outputs": [],
   "execution_count": null
  },
  {
   "metadata": {},
   "cell_type": "code",
   "source": [
    "%%sql\n",
    "INSERT INTO artists (Name)\n",
    "VALUES ('Hao Li'), ('Yibo Zhao'), ('Haonan He')"
   ],
   "id": "6e5d0c01853586cd",
   "outputs": [],
   "execution_count": null
  },
  {
   "metadata": {},
   "cell_type": "code",
   "source": [
    "%%sql\n",
    "SELECT * FROM artists\n",
    "ORDER BY ArtistId DESC\n",
    "LIMIT 8"
   ],
   "id": "ac76478cdb8dbe14",
   "outputs": [],
   "execution_count": null
  },
  {
   "cell_type": "markdown",
   "id": "9a5d8609",
   "metadata": {},
   "source": [
    "## Exercise: removing rows"
   ]
  },
  {
   "cell_type": "markdown",
   "id": "d36bcbeb",
   "metadata": {},
   "source": [
    "Let's delete `artists` whose names contain the word `Santana`.  \n",
    "To verify that the change indeed is made, show the content before and after the change."
   ]
  },
  {
   "metadata": {},
   "cell_type": "code",
   "source": [
    "%%sql\n",
    "SELECT * FROM artists WHERE Name LIKE '%Santana%'"
   ],
   "id": "80ebf1fd88810805",
   "outputs": [],
   "execution_count": null
  },
  {
   "metadata": {},
   "cell_type": "code",
   "source": [
    "%%sql \n",
    "DELETE FROM artists \n",
    "WHERE Name LIKE '%Santana%'"
   ],
   "id": "692af106eaa8ad33",
   "outputs": [],
   "execution_count": null
  },
  {
   "metadata": {},
   "cell_type": "code",
   "source": [
    "%%sql\n",
    "SELECT * FROM artists WHERE Name LIKE '%Santana%'"
   ],
   "id": "83b93f01319c10f1",
   "outputs": [],
   "execution_count": null
  }
 ],
 "metadata": {
  "kernelspec": {
   "display_name": "Python 3 (ipykernel)",
   "language": "python",
   "name": "python3"
  },
  "language_info": {
   "codemirror_mode": {
    "name": "ipython",
    "version": 3
   },
   "file_extension": ".py",
   "mimetype": "text/x-python",
   "name": "python",
   "nbconvert_exporter": "python",
   "pygments_lexer": "ipython3",
   "version": "3.10.1"
  }
 },
 "nbformat": 4,
 "nbformat_minor": 5
}
