{
 "cells": [
  {
   "cell_type": "markdown",
   "metadata": {},
   "source": [
    "# SQL joining (merging) tables (exercises)"
   ],
   "id": "22052853c9152a64"
  },
  {
   "cell_type": "markdown",
   "id": "c8ca724f",
   "metadata": {},
   "source": [
    "## Preparation"
   ]
  },
  {
   "cell_type": "markdown",
   "id": "b171e062",
   "metadata": {},
   "source": [
    "For this section you need `chinook.db` database file and working `%sql` magic.  \n",
    "If you don't have it, please go back to the [previous section](../09_sql/connect_to_database.ipynb) and follow the instructions.  \n",
    "The following code should not produce any errors:"
   ]
  },
  {
   "cell_type": "code",
   "id": "caf9845e",
   "metadata": {},
   "source": [
    "%load_ext sql\n",
    "%sql sqlite:///chinook.db"
   ],
   "outputs": [],
   "execution_count": null
  },
  {
   "cell_type": "markdown",
   "metadata": {},
   "source": [
    "## Exercise: Customer invoices"
   ],
   "id": "feff4dfd92eefaa9"
  },
  {
   "cell_type": "markdown",
   "metadata": {},
   "source": [
    "Use `LEFT JOIN` of tables `customers` and `invoice` to build a table listing all invoices per a customer.  \n",
    "The table should have these columns:\n",
    "- `CustomerId`\n",
    "- `FirstName`\n",
    "- `LastName`\n",
    "- `InvoiceId`\n",
    "\n",
    "What would be the primary key for this table?"
   ],
   "id": "9d479c413c8b8dcf"
  },
  {
   "metadata": {},
   "cell_type": "code",
   "source": [
    "%%sql\n",
    "SELECT CustomerId, FirstName, LastName, InvoiceId FROM customers\n",
    "LEFT JOIN invoices USING (CustomerId)\n",
    "LIMIT 10"
   ],
   "id": "5681a2a462081a",
   "outputs": [],
   "execution_count": null
  },
  {
   "cell_type": "markdown",
   "metadata": {},
   "source": [
    "## Exercise: Customers without invoices?"
   ],
   "id": "c563a5bd4e58f9c4"
  },
  {
   "cell_type": "markdown",
   "metadata": {},
   "source": [
    "Would customers without any invoice be visible in the result table produced above?\n",
    "\n",
    "Check whether such customers exist there."
   ],
   "id": "10e6bdda8b5147f3"
  },
  {
   "metadata": {},
   "cell_type": "code",
   "source": "# Customers without any invoice exist.",
   "id": "33e1962111ffd01d",
   "outputs": [],
   "execution_count": null
  },
  {
   "cell_type": "markdown",
   "metadata": {},
   "source": [
    "## Exercise: Double join"
   ],
   "id": "a7fcdef9ff56d549"
  },
  {
   "metadata": {},
   "cell_type": "markdown",
   "source": [
    "*In short:* For each customer we want to know totals: how many tracks were bought and for what total price.\n",
    "\n",
    "Build a temporary table `customer_summary` with the following columns:\n",
    "The table should have these columns:\n",
    "- `CustomerId` based on `customers`.\n",
    "- `TotalTracksNum` - total number of tracks bought by the customer.\n",
    "- `TotalPrice` - total sum of prices payed by the customer.\n",
    "\n",
    "Use tables `customers`, `invoice` and `invoice_items`."
   ],
   "id": "e247987e38b323ef"
  },
  {
   "metadata": {},
   "cell_type": "code",
   "source": [
    "%%sql\n",
    "CREATE TEMP TABLE customer_summary AS\n",
    "    SELECT cus.CustomerId, COUNT(inv.InvoiceId) AS TotalTracksNum, SUM(UnitPrice) AS TotalPrice\n",
    "      FROM customers AS cus\n",
    "      LEFT JOIN invoices AS inv ON cus.CustomerId = inv.CustomerId\n",
    "      LEFT JOIN invoice_items AS invit ON inv.InvoiceId = invit.InvoiceId\n",
    "      GROUP BY cus.CustomerId;\n",
    "SELECT * FROM customer_summary LIMIT 5"
   ],
   "id": "53ec246865c5f412",
   "outputs": [],
   "execution_count": null
  }
 ],
 "metadata": {
  "kernelspec": {
   "display_name": "Python 3 (ipykernel)",
   "language": "python",
   "name": "python3"
  },
  "language_info": {
   "codemirror_mode": {
    "name": "ipython",
    "version": 3
   },
   "file_extension": ".py",
   "mimetype": "text/x-python",
   "name": "python",
   "nbconvert_exporter": "python",
   "pygments_lexer": "ipython3",
   "version": "3.8.5"
  }
 },
 "nbformat": 4,
 "nbformat_minor": 5
}
