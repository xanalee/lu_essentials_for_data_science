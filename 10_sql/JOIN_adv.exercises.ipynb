{
 "cells": [
  {
   "cell_type": "markdown",
   "metadata": {},
   "source": [
    "# SQL other joins and subqueries (exercises)"
   ],
   "id": "e8c2a40a1afdd1db"
  },
  {
   "cell_type": "markdown",
   "id": "565c542e",
   "metadata": {},
   "source": [
    "## Preparation"
   ]
  },
  {
   "cell_type": "markdown",
   "id": "72887592",
   "metadata": {},
   "source": [
    "For this section you need `chinook.db` database file and working `%sql` magic.  \n",
    "If you don't have it, please go back to the [previous section](../09_sql/connect_to_database.ipynb) and follow the instructions.  \n",
    "The following code should not produce any errors:"
   ]
  },
  {
   "cell_type": "code",
   "id": "109a81b6",
   "metadata": {},
   "source": [
    "%load_ext sql\n",
    "%sql sqlite:///chinook.db"
   ],
   "outputs": [],
   "execution_count": null
  },
  {
   "cell_type": "markdown",
   "metadata": {},
   "source": [
    "## Exercise: difference between two sets"
   ],
   "id": "70c778c70dc70e21"
  },
  {
   "cell_type": "markdown",
   "metadata": {},
   "source": [
    "Based on the `artists` and `albums` tables:\n",
    "- Construct a table with one column `ArtistId` containing only the artists who do not have any album.\n",
    "- Use `EXPECT`."
   ],
   "id": "2b3ebebb63571ad5"
  },
  {
   "metadata": {},
   "cell_type": "code",
   "source": [
    "%%sql\n",
    "SELECT ArtistId FROM artists\n",
    "EXCEPT\n",
    "SELECT DISTINCT ArtistId FROM albums\n",
    "LIMIT 5"
   ],
   "id": "6d89840a5f23b7db",
   "outputs": [],
   "execution_count": null
  },
  {
   "cell_type": "markdown",
   "metadata": {},
   "source": [
    "## Exercise: intersection of two sets"
   ],
   "id": "5dd9fa7e26652a62"
  },
  {
   "cell_type": "markdown",
   "metadata": {},
   "source": [
    "Based on the `customers` and `invoices` tables:\n",
    "- Construct a table with one column `CustomerId` containing only the customers who had an invoice.\n",
    "- Use `INTERSECT`."
   ],
   "id": "79e57f0ddf5f82ca"
  },
  {
   "metadata": {},
   "cell_type": "code",
   "source": [
    "%%sql\n",
    "SELECT CustomerId FROM customers\n",
    "INTERSECT\n",
    "SELECT DISTINCT CustomerId FROM invoices\n",
    "LIMIT 5"
   ],
   "id": "e7d3f00d898a1cf4",
   "outputs": [],
   "execution_count": null
  },
  {
   "cell_type": "markdown",
   "metadata": {},
   "source": [
    "## Exercise: subquery"
   ],
   "id": "f84fdab0fcd71bc0"
  },
  {
   "cell_type": "markdown",
   "metadata": {},
   "source": [
    "Returns the customers whose sales representatives are in the `City` of `Calgary` .  \n",
    "You can use `customers` and `employees` tables."
   ],
   "id": "94c93ac0f00f1a7f"
  },
  {
   "metadata": {},
   "cell_type": "code",
   "source": [
    "%%sql\n",
    "SELECT * FROM customers \n",
    "WHERE SupportRepId IN \n",
    "(SELECT EmployeeId FROM employees WHERE City = 'Calgary')"
   ],
   "id": "1296f5cb03a650df",
   "outputs": [],
   "execution_count": null
  }
 ],
 "metadata": {
  "kernelspec": {
   "display_name": "Python 3 (ipykernel)",
   "language": "python",
   "name": "python3"
  },
  "language_info": {
   "codemirror_mode": {
    "name": "ipython",
    "version": 3
   },
   "file_extension": ".py",
   "mimetype": "text/x-python",
   "name": "python",
   "nbconvert_exporter": "python",
   "pygments_lexer": "ipython3",
   "version": "3.8.5"
  }
 },
 "nbformat": 4,
 "nbformat_minor": 5
}
