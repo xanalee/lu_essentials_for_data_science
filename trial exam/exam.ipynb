{
 "cells": [
  {
   "cell_type": "markdown",
   "metadata": {},
   "source": [
    "# Essentials for Data Science 2022/2023: Exam"
   ]
  },
  {
   "attachments": {},
   "cell_type": "markdown",
   "metadata": {},
   "source": [
    "(2023-06-05)"
   ]
  },
  {
   "attachments": {},
   "cell_type": "markdown",
   "metadata": {},
   "source": [
    "## Introduction\n",
    "\n",
    "The primary goal is to **fill in this notebook with Python code** producing answers to the questions.\n",
    "\n",
    "During the exam:\n",
    "\n",
    "- Using personal notes, books, the online course materials or other on-line documents is permitted.\n",
    "- It is forbidden to communicate with other individuals.\n",
    "- ChatGPT or similar tools are permitted, but you need to declare that you use them. The use of such tools will NOT be taken into account in the grading process.\n",
    "\n",
    "### Steps\n",
    "\n",
    "1. Download (from Brightspace):\n",
    "    - `exam.ipynb`: this Python notebook\n",
    "    - `fib_true.txt`, `fib_false.txt`: two text files with numbers; you may use these files to test your code in the Fibonacci sequence question (1.D.).\n",
    "    - `msleep.csv`: a CSV-formatted table needed for the data manipulation and visualization questions (2.).\n",
    "2. Edit `exam.ipynb` to answer each question:\n",
    "    - Below each question there is one cell which you need to fill in with the Python code solving the question.\n",
    "    - The complete answer needs to fit in the single cell.\n",
    "    - The first line of the cell contains a comment with a ChatGPT declaration. You have two options `NO/YES`. Please leave `YES` if you have used ChatGPT (or a similar tool) to solve the question. Otherwise leave `NO`.\n",
    "4. Submit (in Brightspace):\n",
    "    - Submit the `exam.ipynb` file in Brightspace. You may submit more than once. The last submission will be graded.\n"
   ]
  },
  {
   "attachments": {},
   "cell_type": "markdown",
   "metadata": {},
   "source": [
    "## 1. Basic Python questions"
   ]
  },
  {
   "attachments": {},
   "cell_type": "markdown",
   "metadata": {},
   "source": [
    "### 1.A. [12p] A small restaurant"
   ]
  },
  {
   "attachments": {},
   "cell_type": "markdown",
   "metadata": {},
   "source": [
    "1. [2p] **Menu:** A small restaurant serves several products. Each product has a price.  \n",
    "Create manually a dictionary mapping product names to their prices (have at least 7 products; `coffee` costs 2.50, `tiramisu` costs 5.00, ...)  \n",
    "\n",
    "2. [3p] **Generate Order:** A customer orders one or more products.  \n",
    "Write a function which generates a random list of 1 to 7 product names.\n",
    "The same product can be ordered multiple times (e.g. `coffee`, `tiramisu`, `coffee`, `coffee`).\n",
    "\n",
    "3. [3p] **Calculate Price:**  \n",
    "Write a function which takes a list of products as the argument and calculates the total price.  \n",
    "Use the price dictionary generated above.\n",
    "\n",
    "4. [2p] **Orders of Customers:**  \n",
    "Create manually a list with at least 5 random names of customers.  \n",
    "Use a comprehension to build a dictionary where the keys are the names of the customers and the values are their randomly generated orders.  \n",
    "Use the function developed above.\n",
    "\n",
    "5. [1p] **Prices of Orders:**  \n",
    "Use a comprehension to build a dictionary where the keys are the names of the customers and the values are the calculated prices of their orders.  \n",
    "Use the function developed above.\n",
    "\n",
    "6. [1p] **Discount:**  \n",
    "Modify your function for calculating the total price so that it offers a discount of 10% if the customer orders at least 3 items.\n"
   ]
  },
  {
   "cell_type": "code",
   "execution_count": null,
   "metadata": {
    "ExecuteTime": {
     "end_time": "2023-06-02T14:01:40.011637036Z",
     "start_time": "2023-06-02T14:01:39.674087015Z"
    }
   },
   "outputs": [],
   "source": [
    "### QUESTION_1A_ChatGPT:NO. Leave YES or NO to indicate whether you used ChatGPT here. Write your solution below in this cell. ###\n",
    "# 1.\n"
   ]
  },
  {
   "attachments": {},
   "cell_type": "markdown",
   "metadata": {},
   "source": [
    "### 1.B. [6p] Counting letters"
   ]
  },
  {
   "attachments": {},
   "cell_type": "markdown",
   "metadata": {},
   "source": [
    "1. [1p] **Text:** Manually create a variable with a random sentence (English language, at least 8 words). Use only small letters and spaces.  \n",
    "\n",
    "2. [2p] **Counting:** Build a dictionary where keys are the characters of the sentence and the values are obtained by counting the occurrences of each character in the sentence.\n",
    "\n",
    "3. [3p] **Sorting/printing:** Print the dictionary as shown below (each line with one letter followed by a space and then the number of occurrences). The lines should be printed in the alphabetical order of the characters.\n",
    "\n",
    "For example, for the sentence `'the course offers a practical introduction to a few programming languages and tools currently used in data science'` the program should produce the following output (the first line corresponds to 17 space characters, the second line to 10 `a` characters, the third line to 7 `c` characters, etc.):\n",
    "```\n",
    "  17\n",
    "a 10\n",
    "c 7\n",
    "d 4\n",
    "e 9\n",
    "f 3\n",
    "g 4\n",
    "h 1\n",
    "i 6\n",
    "l 4\n",
    "m 2\n",
    "n 8\n",
    "o 8\n",
    "p 2\n",
    "r 8\n",
    "s 6\n",
    "t 8\n",
    "u 5\n",
    "w 1\n",
    "y 1\n",
    "```"
   ]
  },
  {
   "cell_type": "code",
   "execution_count": null,
   "metadata": {
    "ExecuteTime": {
     "end_time": "2023-06-02T14:01:40.023965914Z",
     "start_time": "2023-06-02T14:01:39.693944411Z"
    }
   },
   "outputs": [],
   "source": [
    "### QUESTION_1B_ChatGPT:NO/YES. Leave YES or NO to indicate whether you used ChatGPT here. Write your solution below in this cell. ###"
   ]
  },
  {
   "attachments": {},
   "cell_type": "markdown",
   "metadata": {},
   "source": [
    "### 1.C. [8p] ATM machine"
   ]
  },
  {
   "attachments": {},
   "cell_type": "markdown",
   "metadata": {},
   "source": [
    "An ATM can provide 100, 50, 20, 10 and 5 euro banknotes:\n",
    "- [6p] Write a function which takes as an argument the amount of money to be withdrawn and returns a list of banknotes to be dispensed by the ATM. The function should return the smallest number of banknotes possible.\n",
    "- [1p] If the amount cannot be expressed in any combination of banknotes then it can not be withdrawn and the function should raise a ValueError exception with a meaningful message.\n",
    "- [1p] If the amount needs more than 20 banknotes then the function should raise a ValueError exception with a meaningful message.\n",
    "\n",
    "Example/hint: for the amount of 375 the returned list should be `[100, 100, 100, 50, 20, 5]` (in any order, but it is useful to process the banknotes in decreasing order of values).\n",
    "\n",
    "The 6p will be split as follows: [2p] for construction of the result, [3p] for structure of the loops and [1p] for overall good structure of the function."
   ]
  },
  {
   "cell_type": "code",
   "execution_count": null,
   "metadata": {
    "ExecuteTime": {
     "end_time": "2023-06-02T14:01:40.026907787Z",
     "start_time": "2023-06-02T14:01:39.711713190Z"
    }
   },
   "outputs": [],
   "source": [
    "### QUESTION_1C_ChatGPT:NO/YES. Leave YES or NO to indicate whether you used ChatGPT here. Write your solution below in this cell. ###"
   ]
  },
  {
   "attachments": {},
   "cell_type": "markdown",
   "metadata": {},
   "source": [
    "### 1.D. [8p] Fibonacci sequence"
   ]
  },
  {
   "attachments": {},
   "cell_type": "markdown",
   "metadata": {},
   "source": [
    "Imagine, that a colleague was requested to calculate the first N numbers of the Fibonacci sequence, shuffle their order and then write them to a file.  \n",
    "Below you can see an example of the contents of such a file for N=8.\n",
    "Each line contains one integer number and the number of lines is equal to N.  \n",
    "The Fibonacci sequence starts with 0, 1, 1, 2, 3, 5, 8...\n",
    "\n",
    "```\n",
    "3\n",
    "5\n",
    "1\n",
    "0\n",
    "2\n",
    "8\n",
    "1\n",
    "13\n",
    "```\n",
    "\n",
    "Now you are provided a file with N numbers. You need to check whether these numbers represent a shuffled Fibonacci sequence.  \n",
    "Write a function which reads all numbers from the file, sorts them and compares them with the first N numbers of the Fibonacci sequence.  \n",
    "The function should return `True` if the numbers were generated as expected and `False` otherwise. The argument of the function is the name of the file with numbers.  \n",
    "You may test your function with the files `fib_true.txt` (expected result: `True`) and `fib_false.txt` (expected result: `False`) provided in Brightspace.\n",
    "\n",
    "The scores will be split as follows: [3p] for correct calculation of the Fibonacci sequence, [2p] for correct reading of the numbers from the file, [1p] for correct sorting of the numbers, [1p] for performing the correct comparison and [1p] for overall good structure of the function(s)."
   ]
  },
  {
   "cell_type": "code",
   "execution_count": null,
   "metadata": {
    "ExecuteTime": {
     "end_time": "2023-06-02T14:01:40.033953698Z",
     "start_time": "2023-06-02T14:01:39.729108595Z"
    }
   },
   "outputs": [],
   "source": [
    "### QUESTION_1D_ChatGPT:NO/YES. Leave YES or NO to indicate whether you used ChatGPT here. Write your solution below in this cell. ###"
   ]
  },
  {
   "attachments": {},
   "cell_type": "markdown",
   "metadata": {},
   "source": [
    "## 2. Data manipulation and visualisation questions"
   ]
  },
  {
   "attachments": {},
   "cell_type": "markdown",
   "metadata": {},
   "source": [
    "For this part you will need the `pandas` and `seaborn` modules\n"
   ]
  },
  {
   "cell_type": "code",
   "execution_count": null,
   "metadata": {
    "ExecuteTime": {
     "end_time": "2023-06-02T14:01:40.037676261Z",
     "start_time": "2023-06-02T14:01:39.773642604Z"
    }
   },
   "outputs": [],
   "source": [
    "import pandas as pd\n",
    "import seaborn as sb"
   ]
  },
  {
   "attachments": {},
   "cell_type": "markdown",
   "metadata": {},
   "source": [
    "\n",
    "You will analyse the `msleep` dataset which contains sleep properties of several mammals.  \n",
    "Each row of the `msleep` table describes one mammal. There are more columns but for the exam you will need only the following variables:\n",
    "\n",
    "- `name`: Common name (e.g. `Cow`).\n",
    "- `vore`: Eating category -- what food type the animal eats (e.g. `carni` eats only meat, `herbi` eats only plants, etc).\n",
    "- `order`: Taxonomic rank, e.g. Primates, Carnivora, etc.\n",
    "- `sleep_total`: Total amount of sleep per day, in hours.\n",
    "- `sleep_rem`:  Total amount of sleep in the REM phase, in hours.\n",
    "- `brainwt`: Brain weight, in kilograms.\n",
    "- `bodywt`: Body weight, in kilograms.\n",
    "\n"
   ]
  },
  {
   "attachments": {},
   "cell_type": "markdown",
   "metadata": {},
   "source": [
    "### 2.A. [2p] Table Summary\n"
   ]
  },
  {
   "attachments": {},
   "cell_type": "markdown",
   "metadata": {},
   "source": [
    "- Read the `msleep` dataset int a `pandas` DataFrame.\n",
    "- [1p] How many rows does it contain?\n",
    "- [1p] List the types of the variables (columns)."
   ]
  },
  {
   "cell_type": "code",
   "execution_count": null,
   "metadata": {
    "ExecuteTime": {
     "end_time": "2023-06-02T14:01:40.040320259Z",
     "start_time": "2023-06-02T14:01:39.776048930Z"
    }
   },
   "outputs": [],
   "source": [
    "### QUESTION_2A_ChatGPT:NO/YES. Leave YES or NO to indicate whether you used ChatGPT here. Write your solution below in this cell. ###"
   ]
  },
  {
   "attachments": {},
   "cell_type": "markdown",
   "metadata": {},
   "source": [
    "### 2.B. [3p] Missing values"
   ]
  },
  {
   "attachments": {},
   "cell_type": "markdown",
   "metadata": {},
   "source": [
    "Calculate the percentage of non-missing values in the `brainwt` column."
   ]
  },
  {
   "cell_type": "code",
   "execution_count": null,
   "metadata": {
    "ExecuteTime": {
     "end_time": "2023-06-02T14:01:40.049185617Z",
     "start_time": "2023-06-02T14:01:39.792731950Z"
    }
   },
   "outputs": [],
   "source": [
    "### QUESTION_2B_ChatGPT:NO/YES. Leave YES or NO to indicate whether you used ChatGPT here. Write your solution below in this cell. ###"
   ]
  },
  {
   "attachments": {},
   "cell_type": "markdown",
   "metadata": {},
   "source": [
    "### 2.C. [3p] DataFrame creation"
   ]
  },
  {
   "attachments": {},
   "cell_type": "markdown",
   "metadata": {},
   "source": [
    "[1p] Create a new DataFrame with a single row and with the following variables:\n",
    "  - [1p] `max_sleep_total`: the maximum total amount of daily sleep (based on `sleep_total` column)\n",
    "  - [1p] `mean_sleep_rem`: the average length of the REM sleep phase (based on `sleep_rem` column)"
   ]
  },
  {
   "cell_type": "code",
   "execution_count": null,
   "metadata": {
    "ExecuteTime": {
     "end_time": "2023-06-02T14:01:40.053431993Z",
     "start_time": "2023-06-02T14:01:39.825872610Z"
    }
   },
   "outputs": [],
   "source": [
    "### QUESTION_2C_ChatGPT:NO/YES. Leave YES or NO to indicate whether you used ChatGPT here. Write your solution below in this cell. ###"
   ]
  },
  {
   "attachments": {},
   "cell_type": "markdown",
   "metadata": {},
   "source": [
    "### 2.D. [1p] Filtering"
   ]
  },
  {
   "attachments": {},
   "cell_type": "markdown",
   "metadata": {},
   "source": [
    "[1p] What is the `name` of the heaviest animal?"
   ]
  },
  {
   "cell_type": "code",
   "execution_count": null,
   "metadata": {
    "ExecuteTime": {
     "end_time": "2023-06-02T14:01:40.060569257Z",
     "start_time": "2023-06-02T14:01:39.843515674Z"
    }
   },
   "outputs": [],
   "source": [
    "### QUESTION_2D_ChatGPT:NO/YES. Leave YES or NO to indicate whether you used ChatGPT here. Write your solution below in this cell. ###"
   ]
  },
  {
   "attachments": {},
   "cell_type": "markdown",
   "metadata": {},
   "source": [
    "### 2.E. [1p] Counting"
   ]
  },
  {
   "attachments": {},
   "cell_type": "markdown",
   "metadata": {},
   "source": [
    "[1p] Count the number of observations per `vore` category. Ignore missing values."
   ]
  },
  {
   "cell_type": "code",
   "execution_count": null,
   "metadata": {
    "ExecuteTime": {
     "end_time": "2023-06-02T14:01:40.063544793Z",
     "start_time": "2023-06-02T14:01:39.861405280Z"
    }
   },
   "outputs": [],
   "source": [
    "### QUESTION_2E_ChatGPT:NO/YES. Leave YES or NO to indicate whether you used ChatGPT here. Write your solution below in this cell. ###"
   ]
  },
  {
   "attachments": {},
   "cell_type": "markdown",
   "metadata": {},
   "source": [
    "### 2.F. [2p] Boxplot"
   ]
  },
  {
   "attachments": {},
   "cell_type": "markdown",
   "metadata": {},
   "source": [
    "[2p] Create the following boxplot:\n",
    "\n",
    "- The horizontal axis should represent the `vore` column.\n",
    "- The vertical axis should represent the `sleep_rem` column."
   ]
  },
  {
   "cell_type": "code",
   "execution_count": null,
   "metadata": {
    "ExecuteTime": {
     "end_time": "2023-06-02T14:01:40.066465224Z",
     "start_time": "2023-06-02T14:01:39.878704862Z"
    }
   },
   "outputs": [],
   "source": [
    "### QUESTION_2F_ChatGPT:NO/YES. Leave YES or NO to indicate whether you used ChatGPT here. Write your solution below in this cell. ###"
   ]
  },
  {
   "attachments": {},
   "cell_type": "markdown",
   "metadata": {},
   "source": [
    "### 2.G. [2p] Scatterplot"
   ]
  },
  {
   "attachments": {},
   "cell_type": "markdown",
   "metadata": {},
   "source": [
    "[2p] Create a scatterplot of `brainwt` against `bodywt` of the order `Rodentia` only."
   ]
  },
  {
   "cell_type": "code",
   "execution_count": null,
   "metadata": {
    "ExecuteTime": {
     "end_time": "2023-06-02T14:01:40.077165463Z",
     "start_time": "2023-06-02T14:01:40.027103832Z"
    }
   },
   "outputs": [],
   "source": [
    "### QUESTION_2G_ChatGPT:NO/YES. Leave YES or NO to indicate whether you used ChatGPT here. Write your solution below in this cell. ###"
   ]
  },
  {
   "attachments": {},
   "cell_type": "markdown",
   "metadata": {},
   "source": [
    "### 2.H. [2p] KDE plot"
   ]
  },
  {
   "attachments": {},
   "cell_type": "markdown",
   "metadata": {},
   "source": [
    "- [1p] Create KDE plot of total sleep against body weight coloured by `vore` categories. \n",
    "- [1p] Use only observations with `bodywt`<100."
   ]
  },
  {
   "cell_type": "code",
   "execution_count": null,
   "metadata": {
    "ExecuteTime": {
     "end_time": "2023-06-02T14:01:40.266783057Z",
     "start_time": "2023-06-02T14:01:40.158150141Z"
    }
   },
   "outputs": [],
   "source": [
    "### QUESTION_2H_ChatGPT:NO/YES. Leave YES or NO to indicate whether you used ChatGPT here. Write your solution below in this cell. ###"
   ]
  },
  {
   "attachments": {},
   "cell_type": "markdown",
   "metadata": {
    "collapsed": false
   },
   "source": [
    "### 2.I. [3p] New column"
   ]
  },
  {
   "cell_type": "markdown",
   "metadata": {},
   "source": [
    "\n",
    "Add the column `weight_group` to the dataset with categories:\n",
    "\n",
    "- `light` -- when `bodywt` is below 0.1,\n",
    "- `heavy` -- when `bodywt` is 10 or more,\n",
    "- `middle` -- otherwise.\n"
   ]
  },
  {
   "cell_type": "code",
   "execution_count": null,
   "metadata": {
    "ExecuteTime": {
     "end_time": "2023-06-02T14:01:40.381831981Z",
     "start_time": "2023-06-02T14:01:40.377965195Z"
    }
   },
   "outputs": [],
   "source": [
    "### QUESTION_2I_ChatGPT:NO/YES. Leave YES or NO to indicate whether you used ChatGPT here. Write your solution below in this cell. ###"
   ]
  }
 ],
 "metadata": {
  "kernelspec": {
   "display_name": "EfDS",
   "language": "python",
   "name": "python3"
  },
  "language_info": {
   "codemirror_mode": {
    "name": "ipython",
    "version": 3
   },
   "file_extension": ".py",
   "mimetype": "text/x-python",
   "name": "python",
   "nbconvert_exporter": "python",
   "pygments_lexer": "ipython3",
   "version": "3.11.3"
  },
  "orig_nbformat": 4
 },
 "nbformat": 4,
 "nbformat_minor": 2
}
