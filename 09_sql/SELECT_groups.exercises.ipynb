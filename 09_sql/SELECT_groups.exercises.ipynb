{
 "cells": [
  {
   "cell_type": "markdown",
   "id": "fbe6f526",
   "metadata": {},
   "source": [
    "# SQL grouping and summarizing data (exercises)"
   ]
  },
  {
   "cell_type": "markdown",
   "id": "cefaaedd",
   "metadata": {},
   "source": [
    "## Preparation"
   ]
  },
  {
   "cell_type": "markdown",
   "id": "abfaf104",
   "metadata": {},
   "source": [
    "For this section you need `chinook.db` database file and working `%sql` magic.  \n",
    "If you don't have it, please go back to the [previous section](connect_to_database.ipynb) and follow the instructions.  \n",
    "The following code should not produce any errors:"
   ]
  },
  {
   "cell_type": "code",
   "id": "428da208",
   "metadata": {},
   "source": [
    "%load_ext sql\n",
    "%sql sqlite:////Users/macbookpro/Desktop/Essentials_for_Data_Science/chinook.db"
   ],
   "outputs": [],
   "execution_count": null
  },
  {
   "cell_type": "markdown",
   "id": "03a97867",
   "metadata": {},
   "source": [
    "## Exercise: summaries per group"
   ]
  },
  {
   "cell_type": "markdown",
   "id": "8e25011d",
   "metadata": {},
   "source": [
    "Using SQL only create a table containing summary info of the `tracks` table grouped by albums (so, by the `AlbumId` column).  \n",
    "In the result table report columns:\n",
    "- `AlbumId`\n",
    "- `TracksNum`: the total count of tracks in the album\n",
    "- `TotalPrice`: sum of all track `UnitPrice`s\n",
    "- `MeanTrackSec`: based on `Milliseconds`, the average time duration of tracks expressed in seconds\n",
    "\n",
    "Order the final table with decreasing `TotalPrice`. Show first 10 rows.    \n",
    "Additionally, you may `ROUND` the prices to two positions and times to full seconds."
   ]
  },
  {
   "metadata": {},
   "cell_type": "code",
   "source": [
    "%%sql\n",
    "SELECT AlbumId, COUNT(*) AS TracksNum, SUM(UnitPrice) AS TotalPrice, AVG(Milliseconds) AS MeanTrackSec \n",
    "FROM tracks \n",
    "GROUP BY AlbumId \n",
    "ORDER BY TotalPrice DESC LIMIT 10"
   ],
   "id": "4108df9636b8a1d1",
   "outputs": [],
   "execution_count": null
  },
  {
   "cell_type": "markdown",
   "id": "b569efed",
   "metadata": {},
   "source": [
    "## Exercise: summaries per group (with pandas)"
   ]
  },
  {
   "cell_type": "markdown",
   "id": "4e850b68",
   "metadata": {},
   "source": [
    "Use another strategy to generate the table from the previous exercise.  \n",
    "Use SQL only to get the complete `tracks` table into a Pandas `DataFrame`.  \n",
    "Then, perform the same calculations using Pandas `groupby` and `agg` commands.  \n",
    "\n",
    "Now, imagine that the database is very large and remote, located on multiple servers somewhere in the world:\n",
    "- What data are transmitted over the database connection in both exercises?\n",
    "- Where are the calculations performed in both exercises?\n",
    "- Which approach would scale better?"
   ]
  },
  {
   "cell_type": "markdown",
   "id": "dac4d616",
   "metadata": {},
   "source": [
    "## Exercise: filtering based on summary result"
   ]
  },
  {
   "cell_type": "markdown",
   "id": "ba8a675a",
   "metadata": {},
   "source": [
    "Find `AlbumId`s that have the number of tracks between 18 and 20. Show 5 rows."
   ]
  },
  {
   "cell_type": "markdown",
   "id": "879d2e27",
   "metadata": {},
   "source": [
    "## Exercise: concatenating texts in a group"
   ]
  },
  {
   "cell_type": "markdown",
   "id": "65966311",
   "metadata": {},
   "source": [
    "Based on `tracks` grouped by `AlbumId`, create a table with two columns:\n",
    "- `AlbumId`\n",
    "- `Tracks`: a semicolon-separated concatenated track names of the album\n",
    "\n",
    "Show some 5 rows."
   ]
  }
 ],
 "metadata": {
  "kernelspec": {
   "display_name": "Python 3 (ipykernel)",
   "language": "python",
   "name": "python3"
  },
  "language_info": {
   "codemirror_mode": {
    "name": "ipython",
    "version": 3
   },
   "file_extension": ".py",
   "mimetype": "text/x-python",
   "name": "python",
   "nbconvert_exporter": "python",
   "pygments_lexer": "ipython3",
   "version": "3.11.3"
  }
 },
 "nbformat": 4,
 "nbformat_minor": 5
}
