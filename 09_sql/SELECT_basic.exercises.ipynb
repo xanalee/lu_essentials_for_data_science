{
 "cells": [
  {
   "cell_type": "markdown",
   "id": "418dbc66",
   "metadata": {},
   "source": [
    "# SQL querying and selecting data (exercises)"
   ]
  },
  {
   "cell_type": "markdown",
   "id": "e710fd5e",
   "metadata": {},
   "source": [
    "## Preparation"
   ]
  },
  {
   "cell_type": "markdown",
   "id": "fc48115f",
   "metadata": {},
   "source": [
    "For this section you need `chinook.db` database file and working `%sql` magic.  \n",
    "If you don't have it, please go back to the [previous section](connect_to_database.ipynb) and follow the instructions.  \n",
    "The following code should not produce any errors:"
   ]
  },
  {
   "cell_type": "code",
   "id": "43aaa7d6",
   "metadata": {},
   "source": [
    "%load_ext sql\n",
    "%sql sqlite:///chinook.db"
   ],
   "outputs": [],
   "execution_count": null
  },
  {
   "cell_type": "markdown",
   "id": "173858f6",
   "metadata": {},
   "source": [
    "## Exercise: biggest tracks"
   ]
  },
  {
   "cell_type": "markdown",
   "id": "2782b529",
   "metadata": {},
   "source": "Print (select) the top 10 biggest `tracks` according to size in `Bytes` column.\n"
  },
  {
   "metadata": {},
   "cell_type": "code",
   "source": "%sql SELECT * FROM tracks ORDER BY Bytes DESC LIMIT 10",
   "id": "1c1a28c12d42e353",
   "outputs": [],
   "execution_count": null
  },
  {
   "cell_type": "markdown",
   "id": "b53b734f",
   "metadata": {},
   "source": [
    "## Exercise: simple filtering"
   ]
  },
  {
   "cell_type": "markdown",
   "id": "b5de19c1",
   "metadata": {},
   "source": [
    "Write statements to get `tracks` with: the `AlbumId` equal to `1` and the `Bytes` length greater than 200,000 milliseconds."
   ]
  },
  {
   "metadata": {},
   "cell_type": "code",
   "source": "%sql SELECT * FROM tracks WHERE AlbumId = 1 AND Bytes > 200000",
   "id": "90e5da558f1f194b",
   "outputs": [],
   "execution_count": null
  },
  {
   "cell_type": "markdown",
   "id": "c4377cc4",
   "metadata": {},
   "source": [
    "## Exercise: filter with `IN`"
   ]
  },
  {
   "cell_type": "markdown",
   "id": "14475996",
   "metadata": {},
   "source": [
    "Return `customers` from `State` of `FL` (Florida), `WA` (Washington), `CA` (California).  \n",
    "Use `IN`, not `AND`."
   ]
  },
  {
   "metadata": {},
   "cell_type": "code",
   "source": "%sql SELECT * FROM customers WHERE State IN ('FL', 'WA', 'CA')",
   "id": "eb56bd73c578aa55",
   "outputs": [],
   "execution_count": null
  },
  {
   "cell_type": "markdown",
   "id": "900d17ec",
   "metadata": {},
   "source": [
    "## Exercise: filter for numbers in range"
   ]
  },
  {
   "cell_type": "markdown",
   "id": "4fc328df",
   "metadata": {},
   "source": [
    "Find `invoices` whose `Total` is between 14.96 and 18.86. Use `BETWEEN`.  \n",
    "Sort the output with increasing `Total`. Show only these columns: `InvoiceId`, `BillingAddress`, `Total`."
   ]
  },
  {
   "metadata": {},
   "cell_type": "code",
   "source": "%sql SELECT InvoiceId, BillingAddress, Total FROM invoices WHERE Total BETWEEN 14.96 AND 18.86 ORDER BY Total ASC",
   "id": "7baa40bffb6bc0dc",
   "outputs": [],
   "execution_count": null
  },
  {
   "cell_type": "markdown",
   "id": "876a5f87",
   "metadata": {},
   "source": [
    "## Exercise: filter partially matching words"
   ]
  },
  {
   "cell_type": "markdown",
   "id": "dc34f541",
   "metadata": {},
   "source": [
    "Find the `tracks` whose `Name`s contain a substring: `Br` (two letters), one letter, `wn` (two letters)."
   ]
  },
  {
   "metadata": {},
   "cell_type": "code",
   "source": "%sql SELECT * FROM tracks WHERE Name LIKE '%Br_wn%'",
   "id": "3ac93a821f809074",
   "outputs": [],
   "execution_count": null
  },
  {
   "cell_type": "markdown",
   "id": "1dfd899f",
   "metadata": {},
   "source": [
    "## Exercise: filtering missing values"
   ]
  },
  {
   "cell_type": "markdown",
   "id": "0ae6824d",
   "metadata": {},
   "source": [
    "Find the `customers` who do not have phone numbers. In the result show only the name and the (missing) phone number."
   ]
  },
  {
   "metadata": {},
   "cell_type": "code",
   "source": "%sql SELECT FirstName, LastName, Phone FROM customers WHERE Phone IS NULL",
   "id": "8ecea68d69c18973",
   "outputs": [],
   "execution_count": null
  },
  {
   "cell_type": "markdown",
   "id": "d9e0d8d7",
   "metadata": {},
   "source": [
    "## Exercise: from the database to a Python list"
   ]
  },
  {
   "cell_type": "markdown",
   "id": "245f69c0",
   "metadata": {},
   "source": [
    "Create a Python variable `bs` to be a list containing all `tracks` sizes as provided in the `Bytes` column.  \n",
    "Print the `type` of the `bs` variable. Print the first 10 elements of `bs`."
   ]
  },
  {
   "metadata": {},
   "cell_type": "code",
   "source": [
    "import sqlalchemy as sa\n",
    "import pandas as pd \n",
    "engine = sa.create_engine(\"sqlite:///chinook.db\")"
   ],
   "id": "ff2fa1f56b9f7ae0",
   "outputs": [],
   "execution_count": null
  },
  {
   "metadata": {},
   "cell_type": "code",
   "source": [
    "df = pd.read_sql(\"SELECT Bytes FROM tracks\", con=engine)\n",
    "bs = df.loc[:, 'Bytes'].tolist()\n",
    "print(bs[:10])"
   ],
   "id": "5c6f6c697099f80d",
   "outputs": [],
   "execution_count": null
  },
  {
   "cell_type": "markdown",
   "id": "aba50815",
   "metadata": {},
   "source": [
    "## Exercise: from the database to a Pandas data frame"
   ]
  },
  {
   "cell_type": "markdown",
   "id": "beded0f4",
   "metadata": {},
   "source": [
    "Create a Python variable `df` to be a Pandas `DataFrame` with two columns corresponding to `Milliseconds` and `Bytes` columns of the `tracks` table. Print `df`.  \n",
    "You will likely need to:\n",
    "- Import `pandas` package.\n",
    "- Use `read_sql` function from `pandas`.\n",
    "- Create a separate connection `engine` with `creeate_engine`."
   ]
  },
  {
   "metadata": {},
   "cell_type": "code",
   "source": [
    "engine = sa.create_engine(\"sqlite:///chinook.db\")\n",
    "df = pd.read_sql(\"SELECT Milliseconds, Bytes FROM tracks\", con=engine)\n",
    "df"
   ],
   "id": "ce26d4a2106e3ce9",
   "outputs": [],
   "execution_count": null
  }
 ],
 "metadata": {
  "kernelspec": {
   "display_name": "EfDS",
   "language": "python",
   "name": "python3"
  },
  "language_info": {
   "codemirror_mode": {
    "name": "ipython",
    "version": 3
   },
   "file_extension": ".py",
   "mimetype": "text/x-python",
   "name": "python",
   "nbconvert_exporter": "python",
   "pygments_lexer": "ipython3",
   "version": "3.11.3"
  }
 },
 "nbformat": 4,
 "nbformat_minor": 5
}
