{
 "cells": [
  {
   "cell_type": "markdown",
   "id": "f587599e87e911dc",
   "metadata": {
    "collapsed": false
   },
   "source": [
    "## Object-oriented programming : Python class  (February 27th, 2024)\n",
    "1) Python object oriented programming\n",
    "2) Git/GitHub assignment preparation"
   ]
  },
  {
   "cell_type": "markdown",
   "source": [
    " ### Running example : calorie consumption "
   ],
   "metadata": {
    "collapsed": false
   },
   "id": "cae408a86a31abb1"
  },
  {
   "cell_type": "code",
   "execution_count": null,
   "id": "ba732df794d41254",
   "metadata": {
    "collapsed": false
   },
   "source": [
    "class Supplement(object):\n",
    "    def __init__(self, name, kcal):\n",
    "        \"\"\"\n",
    "        Supplement is a type of food where the amount of calories is measured/expressed per 100 gram. \n",
    "        \n",
    "        :name the name of the supplement\n",
    "        :kcal kilocalorie per 100 gram\n",
    "        \"\"\"        \n",
    "        self._name = name\n",
    "        self._kcal = kcal\n",
    "                \n",
    "    def __repr__(self):\n",
    "          return f\"{self._name}: {self._kcal}kcal/100g\"\n",
    "\n",
    "    def kcal_per_gram(self, gram):\n",
    "        \"\"\"\n",
    "        Given 'gram' give the amount of calorie.\n",
    "        \"\"\"\n",
    "        return self._kcal/100 * gram\n",
    "    \n",
    "sugar = Supplement(name=\"sugar\", kcal=380)\n",
    "sugar.kcal_per_gram(15)"
   ],
   "outputs": []
  },
  {
   "cell_type": "code",
   "execution_count": null,
   "id": "5e1af050-fa3a-419d-ac29-329ea2706e1b",
   "metadata": {},
   "source": [
    "class Product:\n",
    "    \n",
    "    def __init__(self, name, kcal, gram):\n",
    "        \"\"\"\n",
    "        A product is a type of food with fixed weight having certain amount of calories.  \n",
    "                \n",
    "        :param name: the name of the product \n",
    "        :param kcal: kilocalories\n",
    "        :param gram: weight in gram  \n",
    "        \"\"\"\n",
    "        self._name = name\n",
    "        self._kcal = kcal\n",
    "        self._gram = gram\n",
    "\n",
    "    def __repr__(self):\n",
    "         return f\"{self._name}: {self._kcal}kcal/{self._gram}g\"\n",
    "    \n",
    "    def kcal_per_gram(self, gram):\n",
    "        return self._kcal/self._gram * gram\n",
    "    \n",
    "banana = Product(name=\"banana\",gram=165, kcal=152)\n",
    "banana.kcal_per_gram(10)    "
   ],
   "outputs": []
  },
  {
   "cell_type": "markdown",
   "source": [
    "### Introducing base class Food"
   ],
   "metadata": {
    "collapsed": false
   },
   "id": "1de8dcb7c30629d1"
  },
  {
   "cell_type": "code",
   "execution_count": null,
   "id": "dacaf9db-7db6-4b6f-bc52-822b1ea5b779",
   "metadata": {},
   "source": [
    "class Food:\n",
    "    def __init__(self, name):\n",
    "        self._name = name\n",
    "        \n",
    "class Supplement(Food):\n",
    "    def __init__(self, name, kcal):\n",
    "        super().__init__(name)\n",
    "        self._kcal = kcal\n",
    "                \n",
    "    def __repr__(self):\n",
    "          return f\"{self._name}: {self._kcal}kcal/100g\"\n",
    "\n",
    "    def kcal_per_gram(self, gram):\n",
    "        \"\"\"\n",
    "        Given 'gram' give the amount of calorie.\n",
    "        \n",
    "        :gram the amount of supplement\n",
    "        \"\"\"\n",
    "        return self._kcal/100 * gram\n",
    "\n",
    "sugar = Supplement(name=\"sugar\", kcal=380)\n",
    "sugar.kcal_per_gram(15)"
   ],
   "outputs": []
  },
  {
   "cell_type": "code",
   "source": [
    "class Product(Food):\n",
    "    def __init__(self, name, kcal, gram):\n",
    "        super().__init__(name)\n",
    "        self._kcal = kcal\n",
    "        self._gram = gram\n",
    "\n",
    "    def __repr__(self):\n",
    "         return f\"{self._name}: {self._kcal}kcal/{self._gram}g\"\n",
    "    \n",
    "    def kcal_per_gram(self, gram):\n",
    "        return self._kcal/self._gram * gram"
   ],
   "metadata": {},
   "id": "b9de1d9f-76ff-4b7f-b723-75c5c072d1c3",
   "execution_count": 54,
   "outputs": []
  },
  {
   "cell_type": "markdown",
   "source": [
    "## Mixed class"
   ],
   "metadata": {
    "collapsed": false
   },
   "id": "73a57a857e24faaf"
  },
  {
   "cell_type": "code",
   "execution_count": 86,
   "id": "07f674e5-d97a-456c-986c-6a6330c0d245",
   "metadata": {},
   "source": [
    "class Mixed(Food):\n",
    "\n",
    "    def __init__(self, name):\n",
    "        \"\"\"\n",
    "        Mixed food is a type of food which may consists of multiple food types including itself.\n",
    "        \n",
    "        :param name: name of the food\n",
    "        \"\"\"\n",
    "        super().__init__(name)\n",
    "        self._food_grams = []\n",
    "\n",
    "    def add(self, food, gram):\n",
    "        self._food_grams.append((food,gram))\n",
    "\n",
    "    def kcal_per_gram(self, gram):\n",
    "        return  sum(food.kcal_per_gram(g) for food, g in self._food_grams)/ self.weight() * gram \n",
    "        \n",
    "    def weight(self):\n",
    "        return sum([gram for food,gram in self._food_grams]) \n",
    "\n",
    "        \n",
    "milk = Supplement(name=\"milk\",kcal=46)\n",
    "m = Mixed(\"milkshake\")\n",
    "m.add(milk, 75)\n",
    "m.add(banana, 100)"
   ],
   "outputs": []
  },
  {
   "cell_type": "code",
   "execution_count": null,
   "id": "6b3a8663-4df8-4269-b80f-54fcf22e9008",
   "metadata": {},
   "source": [
    "m.kcal_per_gram(50)"
   ],
   "outputs": []
  },
  {
   "cell_type": "markdown",
   "source": [
    "## Class hierarchy  "
   ],
   "metadata": {
    "collapsed": false
   },
   "id": "f64eef7893441b1e"
  },
  {
   "cell_type": "code",
   "source": [
    "Product.mro()  # method resolution order\n",
    "isinstance(sugar, Product)  # test class instance "
   ],
   "metadata": {},
   "id": "6240631a-f142-486a-8c64-c30d8ab698c7",
   "execution_count": 0,
   "outputs": []
  },
  {
   "cell_type": "markdown",
   "source": [
    "## Variable scope"
   ],
   "metadata": {
    "collapsed": false
   },
   "id": "7e1a7c618beedaed"
  },
  {
   "cell_type": "code",
   "source": [
    "x = [3,4,5]\n",
    "\n",
    "def my_mean(x):\n",
    "    return sum(x)/len(x)\n",
    "\n",
    "my_mean([1,2,3])\n",
    "\n",
    "g = (x for x in [1,3,5])\n",
    "g"
   ],
   "metadata": {
    "collapsed": false,
    "ExecuteTime": {
     "end_time": "2024-02-28T07:21:03.624836Z",
     "start_time": "2024-02-28T07:21:03.622760Z"
    }
   },
   "id": "9658fd9af4b9d8a4",
   "execution_count": 14,
   "outputs": []
  }
 ],
 "metadata": {
  "kernelspec": {
   "display_name": "Python 3 (ipykernel)",
   "language": "python",
   "name": "python3"
  },
  "language_info": {
   "codemirror_mode": {
    "name": "ipython",
    "version": 3
   },
   "file_extension": ".py",
   "mimetype": "text/x-python",
   "name": "python",
   "nbconvert_exporter": "python",
   "pygments_lexer": "ipython3",
   "version": "3.11.5"
  }
 },
 "nbformat": 4,
 "nbformat_minor": 5
}
